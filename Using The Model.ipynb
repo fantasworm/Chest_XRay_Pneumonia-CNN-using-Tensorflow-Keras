{
 "cells": [
  {
   "cell_type": "code",
   "execution_count": 16,
   "metadata": {},
   "outputs": [
    {
     "name": "stdout",
     "output_type": "stream",
     "text": [
      "[[0.8915576  0.         0.10844244]]\n"
     ]
    }
   ],
   "source": [
    "import cv2\n",
    "import os\n",
    "import numpy as np\n",
    "import tensorflow as tf\n",
    "\n",
    "CATEGORIES = [\"Normal\", \"Bacteria\", \"Virus\"]\n",
    "\n",
    "def prepare(filepath):\n",
    "    IMG_SIZE = 300\n",
    "    img_array = cv2.imread(filepath, cv2.IMREAD_GRAYSCALE)\n",
    "    new_array = cv2.resize(img_array, (IMG_SIZE, IMG_SIZE))\n",
    "    return new_array.reshape(-1, IMG_SIZE, IMG_SIZE, 1)\n",
    "\n",
    "model = tf.keras.models.load_model(\"X-ray-CNN.model\")\n",
    "\n",
    "prediction = model.predict([prepare(\"test_normal.jpeg\")])\n",
    "\n",
    "print(prediction)"
   ]
  },
  {
   "cell_type": "code",
   "execution_count": 31,
   "metadata": {},
   "outputs": [
    {
     "name": "stdout",
     "output_type": "stream",
     "text": [
      "Pneumonia Prediction Result\n",
      "Normal : 0.89\n",
      "Bacteria : 0.0\n",
      "Virus : 0.11\n"
     ]
    }
   ],
   "source": [
    "prediction = model.predict([prepare(\"test_normal.jpeg\")])\n",
    "pred_list = prediction[0].tolist()\n",
    "\n",
    "print(\"Pneumonia Prediction Result\")\n",
    "print(CATEGORIES[0], \":\", round(pred_list[0], 2))\n",
    "print(CATEGORIES[1], \":\", round(pred_list[1], 2))\n",
    "print(CATEGORIES[2], \":\", round(pred_list[2], 2))"
   ]
  },
  {
   "cell_type": "code",
   "execution_count": 32,
   "metadata": {},
   "outputs": [
    {
     "name": "stdout",
     "output_type": "stream",
     "text": [
      "Pneumonia Prediction Result\n",
      "Normal : 0.0\n",
      "Bacteria : 1.0\n",
      "Virus : 0.0\n"
     ]
    }
   ],
   "source": [
    "prediction = model.predict([prepare(\"test_bacteria.jpeg\")])\n",
    "pred_list = prediction[0].tolist()\n",
    "\n",
    "print(\"Pneumonia Prediction Result\")\n",
    "print(CATEGORIES[0], \":\", round(pred_list[0], 2))\n",
    "print(CATEGORIES[1], \":\", round(pred_list[1], 2))\n",
    "print(CATEGORIES[2], \":\", round(pred_list[2], 2))"
   ]
  },
  {
   "cell_type": "code",
   "execution_count": 33,
   "metadata": {},
   "outputs": [
    {
     "name": "stdout",
     "output_type": "stream",
     "text": [
      "Pneumonia Prediction Result\n",
      "Normal : 0.0\n",
      "Bacteria : 1.0\n",
      "Virus : 0.0\n"
     ]
    }
   ],
   "source": [
    "prediction = model.predict([prepare(\"test_virus.jpeg\")])\n",
    "pred_list = prediction[0].tolist()\n",
    "\n",
    "print(\"Pneumonia Prediction Result\")\n",
    "print(CATEGORIES[0], \":\", round(pred_list[0], 2))\n",
    "print(CATEGORIES[1], \":\", round(pred_list[1], 2))\n",
    "print(CATEGORIES[2], \":\", round(pred_list[2], 2))"
   ]
  },
  {
   "cell_type": "code",
   "execution_count": 34,
   "metadata": {},
   "outputs": [
    {
     "name": "stdout",
     "output_type": "stream",
     "text": [
      "Pneumonia Prediction Result\n",
      "Normal : 0.0\n",
      "Bacteria : 0.0\n",
      "Virus : 1.0\n"
     ]
    }
   ],
   "source": [
    "prediction = model.predict([prepare(\"test_virus2.jpeg\")])\n",
    "pred_list = prediction[0].tolist()\n",
    "\n",
    "print(\"Pneumonia Prediction Result\")\n",
    "print(CATEGORIES[0], \":\", round(pred_list[0], 2))\n",
    "print(CATEGORIES[1], \":\", round(pred_list[1], 2))\n",
    "print(CATEGORIES[2], \":\", round(pred_list[2], 2))"
   ]
  },
  {
   "cell_type": "code",
   "execution_count": null,
   "metadata": {},
   "outputs": [],
   "source": []
  }
 ],
 "metadata": {
  "kernelspec": {
   "display_name": "Python 3",
   "language": "python",
   "name": "python3"
  },
  "language_info": {
   "codemirror_mode": {
    "name": "ipython",
    "version": 3
   },
   "file_extension": ".py",
   "mimetype": "text/x-python",
   "name": "python",
   "nbconvert_exporter": "python",
   "pygments_lexer": "ipython3",
   "version": "3.8.5"
  }
 },
 "nbformat": 4,
 "nbformat_minor": 4
}
