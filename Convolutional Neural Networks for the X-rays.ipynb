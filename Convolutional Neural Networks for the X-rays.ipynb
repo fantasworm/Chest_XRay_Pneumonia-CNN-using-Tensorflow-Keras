{
 "cells": [
  {
   "cell_type": "code",
   "execution_count": 1,
   "metadata": {},
   "outputs": [
    {
     "name": "stdout",
     "output_type": "stream",
     "text": [
      "[[1. 0. 0.]\n",
      " [0. 0. 1.]\n",
      " [1. 0. 0.]\n",
      " ...\n",
      " [0. 1. 0.]\n",
      " [1. 0. 0.]\n",
      " [0. 0. 1.]]\n",
      "Epoch 1/10\n",
      " 1/22 [>.............................] - ETA: 0s - loss: 1.1041 - accuracy: 0.2891WARNING:tensorflow:From C:\\Users\\user\\anaconda3\\envs\\tf-gpu\\lib\\site-packages\\tensorflow\\python\\ops\\summary_ops_v2.py:1277: stop (from tensorflow.python.eager.profiler) is deprecated and will be removed after 2020-07-01.\n",
      "Instructions for updating:\n",
      "use `tf.profiler.experimental.stop` instead.\n",
      "22/22 [==============================] - 42s 2s/step - loss: 1.0308 - accuracy: 0.4375 - val_loss: 0.8533 - val_accuracy: 0.6404\n",
      "Epoch 2/10\n",
      "22/22 [==============================] - 43s 2s/step - loss: 0.6499 - accuracy: 0.7376 - val_loss: 0.5255 - val_accuracy: 0.7862\n",
      "Epoch 3/10\n",
      "22/22 [==============================] - 43s 2s/step - loss: 0.4652 - accuracy: 0.8068 - val_loss: 0.4234 - val_accuracy: 0.8285\n",
      "Epoch 4/10\n",
      "22/22 [==============================] - 43s 2s/step - loss: 0.3927 - accuracy: 0.8501 - val_loss: 0.4146 - val_accuracy: 0.8418\n",
      "Epoch 5/10\n",
      "22/22 [==============================] - 43s 2s/step - loss: 0.3367 - accuracy: 0.8647 - val_loss: 0.3746 - val_accuracy: 0.8550\n",
      "Epoch 6/10\n",
      "22/22 [==============================] - 43s 2s/step - loss: 0.3120 - accuracy: 0.8764 - val_loss: 0.3511 - val_accuracy: 0.8674\n",
      "Epoch 7/10\n",
      "22/22 [==============================] - 43s 2s/step - loss: 0.3174 - accuracy: 0.8782 - val_loss: 0.3670 - val_accuracy: 0.8616\n",
      "Epoch 8/10\n",
      "22/22 [==============================] - 43s 2s/step - loss: 0.3019 - accuracy: 0.8821 - val_loss: 0.3480 - val_accuracy: 0.8650\n",
      "Epoch 9/10\n",
      "22/22 [==============================] - 43s 2s/step - loss: 0.2810 - accuracy: 0.8956 - val_loss: 0.3572 - val_accuracy: 0.8592\n",
      "Epoch 10/10\n",
      "22/22 [==============================] - 44s 2s/step - loss: 0.2478 - accuracy: 0.9013 - val_loss: 0.3746 - val_accuracy: 0.8674\n"
     ]
    },
    {
     "data": {
      "text/plain": [
       "<tensorflow.python.keras.callbacks.History at 0x2924a82db50>"
      ]
     },
     "execution_count": 1,
     "metadata": {},
     "output_type": "execute_result"
    }
   ],
   "source": [
    "# The basic CNN structure is as follows:\n",
    "# Convolution -> Pooling -> Convolution -> Pooling\n",
    "# -> Fully Connected Layer -> Output\n",
    "\n",
    "# Setting up...\n",
    "import numpy as np\n",
    "import tensorflow as tf\n",
    "from tensorflow.keras.models import Sequential\n",
    "from tensorflow.keras.layers import Dense, Dropout, Activation, Flatten, Conv2D, MaxPooling2D\n",
    "from tensorflow.keras.callbacks import TensorBoard\n",
    "import pickle\n",
    "import time\n",
    "\n",
    "NAME = \"Finding-Pneumonia-Chest-X-rays-{}\".format(int(time.time()))\n",
    "\n",
    "tensorboard = TensorBoard(log_dir='logs/{}'.format(NAME))\n",
    "\n",
    "X = pickle.load(open(\"X.pickle\", \"rb\"))\n",
    "y = pickle.load(open(\"y.pickle\", \"rb\"))\n",
    "\n",
    "X = np.array(X/255.0)\n",
    "y = np.array(y)\n",
    "y = tf.keras.utils.to_categorical(y, 3)\n",
    "\n",
    "print(y)\n",
    "\n",
    "model = Sequential()\n",
    "# Convolution -> Pooling (1st)\n",
    "model.add(Conv2D(16, (3,3), input_shape = X.shape[1:]))\n",
    "model.add(Activation(\"relu\"))\n",
    "model.add(MaxPooling2D(pool_size=(2,2)))\n",
    "\n",
    "# Convolution -> Pooling (2nd)\n",
    "model.add(Conv2D(32, (3,3)))\n",
    "model.add(Activation(\"relu\"))\n",
    "model.add(MaxPooling2D(pool_size=(2,2)))\n",
    "\n",
    "# Convolution -> Pooling (3rd)\n",
    "model.add(Conv2D(64, (3,3)))\n",
    "model.add(Activation(\"relu\"))\n",
    "model.add(MaxPooling2D(pool_size=(2,2)))\n",
    "\n",
    "# Convolution -> Pooling (4th)\n",
    "model.add(Conv2D(64, (3,3)))\n",
    "model.add(Activation(\"relu\"))\n",
    "model.add(MaxPooling2D(pool_size=(2,2)))\n",
    "\n",
    "# Convolution -> Pooling (5th)\n",
    "model.add(Conv2D(64, (3,3)))\n",
    "model.add(Activation(\"relu\"))\n",
    "model.add(MaxPooling2D(pool_size=(2,2)))\n",
    "\n",
    "# Fully Connected Layer\n",
    "model.add(Flatten())\n",
    "model.add(Dense(512))\n",
    "model.add(Activation(\"relu\"))\n",
    "\n",
    "# Output\n",
    "model.add(Dense(3))\n",
    "model.add(Activation(\"softmax\"))\n",
    "\n",
    "model.compile(loss = \"categorical_crossentropy\",\n",
    "             optimizer = \"adam\",\n",
    "             metrics=['accuracy'])\n",
    "\n",
    "model.fit(X, y, batch_size=128, epochs=10, validation_split=0.3, callbacks = [tensorboard])"
   ]
  },
  {
   "cell_type": "code",
   "execution_count": 2,
   "metadata": {},
   "outputs": [
    {
     "name": "stdout",
     "output_type": "stream",
     "text": [
      "WARNING:tensorflow:From C:\\Users\\user\\anaconda3\\envs\\tf-gpu\\lib\\site-packages\\tensorflow\\python\\training\\tracking\\tracking.py:111: Model.state_updates (from tensorflow.python.keras.engine.training) is deprecated and will be removed in a future version.\n",
      "Instructions for updating:\n",
      "This property should not be used in TensorFlow 2.0, as updates are applied automatically.\n",
      "WARNING:tensorflow:From C:\\Users\\user\\anaconda3\\envs\\tf-gpu\\lib\\site-packages\\tensorflow\\python\\training\\tracking\\tracking.py:111: Layer.updates (from tensorflow.python.keras.engine.base_layer) is deprecated and will be removed in a future version.\n",
      "Instructions for updating:\n",
      "This property should not be used in TensorFlow 2.0, as updates are applied automatically.\n",
      "INFO:tensorflow:Assets written to: X-ray-CNN.model\\assets\n"
     ]
    }
   ],
   "source": [
    "model.save(\"X-ray-CNN.model\")"
   ]
  },
  {
   "cell_type": "code",
   "execution_count": null,
   "metadata": {},
   "outputs": [],
   "source": []
  }
 ],
 "metadata": {
  "kernelspec": {
   "display_name": "Python 3",
   "language": "python",
   "name": "python3"
  },
  "language_info": {
   "codemirror_mode": {
    "name": "ipython",
    "version": 3
   },
   "file_extension": ".py",
   "mimetype": "text/x-python",
   "name": "python",
   "nbconvert_exporter": "python",
   "pygments_lexer": "ipython3",
   "version": "3.8.5"
  }
 },
 "nbformat": 4,
 "nbformat_minor": 4
}
